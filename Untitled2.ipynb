{
 "cells": [
  {
   "cell_type": "code",
   "execution_count": 1,
   "id": "facd92e7-a288-4c0a-a6fa-a52011da7ef9",
   "metadata": {},
   "outputs": [],
   "source": [
    "import cv2\n",
    "import numpy as np\n",
    "\n",
    "# Load the image\n",
    "image = cv2.imread('happy.jpg')  # Replace 'example_image.jpg' with your image file\n",
    "\n",
    "# Convert image to float32 for accurate calculations\n",
    "image_float = image.astype(np.float32)\n",
    "\n",
    "# Calculate mean intensity value for each channel\n",
    "mean_channels = np.mean(image_float, axis=(0, 1))\n",
    "\n",
    "# Subtract mean intensity value from each pixel\n",
    "normalized_image = image_float - mean_channels\n",
    "\n",
    "# Convert the image back to uint8 format for visualization\n",
    "normalized_image_uint8 = np.clip(normalized_image, 0, 255).astype(np.uint8)\n",
    "\n",
    "# Display the original and normalized images\n",
    "cv2.imshow('Original Image', image)\n",
    "cv2.imshow('Normalized Image', normalized_image_uint8)\n",
    "cv2.waitKey(0)\n",
    "cv2.destroyAllWindows()\n"
   ]
  },
  {
   "cell_type": "code",
   "execution_count": null,
   "id": "df4d0556-21ca-42b7-abd5-e4724242885d",
   "metadata": {},
   "outputs": [],
   "source": []
  }
 ],
 "metadata": {
  "kernelspec": {
   "display_name": "Python 3 (ipykernel)",
   "language": "python",
   "name": "python3"
  },
  "language_info": {
   "codemirror_mode": {
    "name": "ipython",
    "version": 3
   },
   "file_extension": ".py",
   "mimetype": "text/x-python",
   "name": "python",
   "nbconvert_exporter": "python",
   "pygments_lexer": "ipython3",
   "version": "3.11.7"
  }
 },
 "nbformat": 4,
 "nbformat_minor": 5
}
